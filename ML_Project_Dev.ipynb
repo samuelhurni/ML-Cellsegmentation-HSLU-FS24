{
  "nbformat": 4,
  "nbformat_minor": 0,
  "metadata": {
    "colab": {
      "provenance": [],
      "authorship_tag": "ABX9TyPN1+yJUmgUNR4N12zu/YRC",
      "include_colab_link": true
    },
    "kernelspec": {
      "name": "python3",
      "display_name": "Python 3"
    },
    "language_info": {
      "name": "python"
    }
  },
  "cells": [
    {
      "cell_type": "markdown",
      "metadata": {
        "id": "view-in-github",
        "colab_type": "text"
      },
      "source": [
        "<a href=\"https://colab.research.google.com/github/samuelhurni/ML-Cellsegmentation-HSLU-FS24/blob/feature_Dev/ML_Project_Dev.ipynb\" target=\"_parent\"><img src=\"https://colab.research.google.com/assets/colab-badge.svg\" alt=\"Open In Colab\"/></a>"
      ]
    },
    {
      "cell_type": "code",
      "execution_count": null,
      "metadata": {
        "id": "l0cPoIiuwvFl"
      },
      "outputs": [],
      "source": [
        "#imports"
      ]
    },
    {
      "cell_type": "code",
      "source": [
        "#drive\n",
        "from google.colab import drive\n",
        "drive.mount('/content/drive')"
      ],
      "metadata": {
        "colab": {
          "base_uri": "https://localhost:8080/"
        },
        "id": "D4Hkm0xByeb-",
        "outputId": "eb90a398-424b-4941-f3c6-eff9698eb1d9"
      },
      "execution_count": 1,
      "outputs": [
        {
          "output_type": "stream",
          "name": "stdout",
          "text": [
            "Mounted at /content/drive\n"
          ]
        }
      ]
    },
    {
      "cell_type": "code",
      "source": [],
      "metadata": {
        "id": "d4CVDpk0-Psq"
      },
      "execution_count": null,
      "outputs": []
    },
    {
      "cell_type": "code",
      "source": [
        "path= '/content/drive/\"My Drive\"/name_of_dataset_folder'"
      ],
      "metadata": {
        "id": "eVdFyQheyj9U"
      },
      "execution_count": null,
      "outputs": []
    }
  ]
}